{
  "nbformat": 4,
  "nbformat_minor": 0,
  "metadata": {
    "colab": {
      "provenance": [],
      "toc_visible": true,
      "include_colab_link": true
    },
    "kernelspec": {
      "name": "python3",
      "display_name": "Python 3"
    },
    "language_info": {
      "name": "python"
    }
  },
  "cells": [
    {
      "cell_type": "markdown",
      "metadata": {
        "id": "view-in-github",
        "colab_type": "text"
      },
      "source": [
        "<a href=\"https://colab.research.google.com/github/soflat11/Guidelines/blob/main/demo20240504.ipynb\" target=\"_parent\"><img src=\"https://colab.research.google.com/assets/colab-badge.svg\" alt=\"Open In Colab\"/></a>"
      ]
    },
    {
      "cell_type": "markdown",
      "source": [
        "# 事前準備\n",
        "このファイルは  \n",
        "**5/12 ARDS診療ガイドライン2026_成人CQ**  \n",
        "の解析に対応しています。  \n",
        "この解析は、修正デルファイでの、同意の１～９点の集計に対応しており、他の集計、たとえばPatientsの文面の選択などの集計には対応していません。\n",
        "\n",
        "以下の事前作業を投票前に済ませておいてください。"
      ],
      "metadata": {
        "id": "30cKQQLl8hgx"
      }
    },
    {
      "cell_type": "markdown",
      "source": [
        "## Google Driveのマウント\n",
        "Google driveをこのファイルで操作できるようにマウントさせます。\n",
        "ショートカット内にフォルダがないと、生成したスライドがただしく保存できないので、あらかじめ、データが可能されている共有フォルダを自身のMyDrive内にショートカットを作成してください。"
      ],
      "metadata": {
        "id": "uz9ITJpn6qZv"
      }
    },
    {
      "cell_type": "code",
      "execution_count": 1,
      "metadata": {
        "colab": {
          "base_uri": "https://localhost:8080/"
        },
        "id": "W5L5NkIJ2e9B",
        "outputId": "e6c8dbdb-39a3-4f11-801f-29438dee3c66"
      },
      "outputs": [
        {
          "output_type": "stream",
          "name": "stdout",
          "text": [
            "Mounted at /content/drive\n"
          ]
        }
      ],
      "source": [
        "from google.colab import drive\n",
        "drive.mount('/content/drive') #コラボでGoogle driveを操作できるようにしています"
      ]
    },
    {
      "cell_type": "markdown",
      "source": [
        "## ライブラリの取得\n",
        "解析に必要なライブラリをインポートします。\n",
        "事前に、ライブラリがインストールされていない場合は＃を外して、ライブラリをインストールしてください。\n"
      ],
      "metadata": {
        "id": "tAYTyO787Aee"
      }
    },
    {
      "cell_type": "code",
      "source": [
        "\n",
        "# python-pptx ライブラリのインストール（未インストールの場合）\n",
        "!pip install python-pptx\n",
        "\n",
        "\n",
        "# ライブラリのインポート\n",
        "from pptx import Presentation\n",
        "from pptx.util import Inches, Pt\n",
        "import pandas as pd\n",
        "import io\n",
        "import matplotlib.pyplot as plt\n",
        "import numpy as np\n",
        "from pptx import Presentation\n",
        "from pptx.util import Inches"
      ],
      "metadata": {
        "id": "TsK4oxqsS-jI"
      },
      "execution_count": null,
      "outputs": []
    },
    {
      "cell_type": "markdown",
      "source": [
        "## データの読込み\n",
        "スプレッドシートを読み込みます。urlの読み込みでは、xlsxにフォーマとを変換して読み込んでいます。\n",
        "スプレッドシートの共有ボタンを押すと、以下のURLがでます。\n",
        "\n",
        "https://docs.google.com/spreadsheets/d/1MXIEA-pUss9VBQ1nVzmk83AKdXQwwOw1YbWLz_4LTMg/edit?usp=sharing\n",
        "\n",
        "これは共有リンクです。\n",
        "これの語尾をexport?format=xlsxにしてデータを読み込ませます。\n",
        "\n",
        "pandasとopenpyxlライブラリを使ってスプレッドシートのデータを読み込むことができます。Colabノートブックに次のように記述します。"
      ],
      "metadata": {
        "id": "KozoYRUj7PB-"
      }
    },
    {
      "cell_type": "code",
      "source": [
        "#データの読込\n",
        "url = 'https://docs.google.com/spreadsheets/d/1MXIEA-pUss9VBQ1nVzmk83AKdXQwwOw1YbWLz_4LTMg/export?format=xlsx'\n",
        "df = pd.read_excel(url)\n",
        "print(df.head())"
      ],
      "metadata": {
        "colab": {
          "base_uri": "https://localhost:8080/"
        },
        "id": "J6iEBnO8Gp11",
        "outputId": "dfeb99df-2cee-43a7-e1d0-1d3154b730e6"
      },
      "execution_count": 4,
      "outputs": [
        {
          "output_type": "stream",
          "name": "stdout",
          "text": [
            "            Timestamp      ID CQ_selection  Q1 Q1_free  Q2 Q2_free\n",
            "0 2023-01-01 00:00:00  Panel1        CQ_A1   6   とても良い   7      普通\n",
            "1 2023-01-01 01:00:00  Panel1        CQ_A2   6    おいしい   6      普通\n",
            "2 2023-01-01 02:00:00  Panel1        CQ_A3   6   とても良い   7   つまらない\n",
            "3 2023-01-01 03:00:00  Panel1        CQ_A4   4     ふつう   7      退屈\n",
            "4 2023-01-01 04:00:00  Panel1        CQ_A5   7    おいしい   6      最高\n"
          ]
        }
      ]
    },
    {
      "cell_type": "markdown",
      "source": [
        "読み込んだデータが正しいか確認ください。"
      ],
      "metadata": {
        "id": "EjMdk3aDAl3G"
      }
    },
    {
      "cell_type": "markdown",
      "source": [
        "## 関数の作成\n",
        "解析に必要な関数を作成します。理解は不要です。実行だけしてください。"
      ],
      "metadata": {
        "id": "EUcAZfSl8N_e"
      }
    },
    {
      "cell_type": "code",
      "source": [
        "def add_id_check_slide(prs, df_cq, cq):\n",
        "    \"\"\"Add a slide to check ID consistency.\"\"\"\n",
        "    ids = df_cq['ID']\n",
        "    total_ids = len(ids)\n",
        "    unique_ids = ids.nunique()\n",
        "\n",
        "    if total_ids == 15 and unique_ids == 15:\n",
        "        result_text = \"全員回答済みで重複なし\"\n",
        "    elif total_ids == 15 and unique_ids < 15:\n",
        "        result_text = \"重複あり\"\n",
        "    elif total_ids < 15:\n",
        "        result_text = \"未回答あり\"\n",
        "    elif total_ids > 15:\n",
        "        result_text = \"重複回答あり\"\n",
        "\n",
        "    slide = prs.slides.add_slide(prs.slide_layouts[5])\n",
        "    tx_box = slide.shapes.add_textbox(Inches(1), Inches(2), Inches(8), Inches(4))\n",
        "    tf = tx_box.text_frame\n",
        "    p = tf.add_paragraph()\n",
        "    p.text = result_text\n",
        "    p.font.bold = True\n",
        "    p.font.size = Pt(24)\n",
        "    title_slide = slide.shapes.title\n",
        "    title_slide.text = f\"{cq} ID Check Results\"\n",
        "\n",
        "def analyze_questions(question_data):\n",
        "    median = np.median(question_data)\n",
        "    mean = np.mean(question_data)\n",
        "    mad = np.mean(np.abs(question_data - median))\n",
        "    lower = np.percentile(question_data, 30)\n",
        "    upper = np.percentile(question_data, 70)\n",
        "    ipr = upper - lower\n",
        "    ipr_cp = (lower + upper) / 2\n",
        "    asymmetry_index = abs(5 - ipr_cp)\n",
        "    ipras = 2.35 + (1.5 * asymmetry_index)\n",
        "    matching = \"不一致\" if ipr > ipras else \"一致\"\n",
        "    mismatch_index = ipr / ipras\n",
        "    over_7_count = np.sum(question_data >= 7)\n",
        "    over_7_percentage = np.mean(question_data >= 7) * 100\n",
        "    consensus = \"合意\" if median >= 7 and mismatch_index < 1 else \"不合意\"\n",
        "\n",
        "    # 判断\n",
        "    if median >= 7:\n",
        "        judgment = '適切'\n",
        "    elif median >= 4:\n",
        "        judgment = '不確実'\n",
        "    else:\n",
        "        judgment = '不適切'\n",
        "\n",
        "    return {\n",
        "        '中央値': median,\n",
        "        '平均': mean,\n",
        "        '判断': judgment,\n",
        "        'Mean Absolute Deviation': mad,\n",
        "        'Lower': lower,\n",
        "        'Upper': upper,\n",
        "        'IPR': ipr,\n",
        "        'IPR CP': ipr_cp,\n",
        "        'Asymmetry Index': asymmetry_index,\n",
        "        'IPRAS': ipras,\n",
        "        '一致': matching,\n",
        "        '不一致指数': mismatch_index,\n",
        "        '7点以上の人数': over_7_count,\n",
        "        '7点以上の割合': over_7_percentage,\n",
        "        '合意': consensus\n",
        "    }\n",
        "\n",
        "\n",
        "def add_histogram_slide(prs, data, title):\n",
        "    \"\"\"Generate and add a histogram slide to the presentation.\"\"\"\n",
        "    fig, ax = plt.subplots(figsize=(5, 4))\n",
        "    ax.hist(data, bins=np.arange(0.5, 10.5, 1), alpha=0.7, color='blue')\n",
        "    ax.set_title(title + ' Score Distribution')\n",
        "    ax.set_xlabel('Score')\n",
        "    ax.set_ylabel('Frequency')\n",
        "\n",
        "    # Save the plot to a BytesIO object and insert it into the slide\n",
        "    plot_stream = io.BytesIO()\n",
        "    plt.savefig(plot_stream, format='png')\n",
        "    plot_stream.seek(0)\n",
        "    slide = prs.slides.add_slide(prs.slide_layouts[5])  # Adjust layout if necessary\n",
        "    slide.shapes.add_picture(plot_stream, Inches(1), Inches(1), width=Inches(8))\n",
        "    plt.close()\n",
        "\n",
        "def add_statistical_summary_slide(prs, results, title):\n",
        "    \"\"\"Add a slide with statistical summaries to the presentation.\"\"\"\n",
        "    slide = prs.slides.add_slide(prs.slide_layouts[5])\n",
        "    title_slide = slide.shapes.title\n",
        "    title_slide.text = title\n",
        "    tx_box = slide.shapes.add_textbox(Inches(1), Inches(1.5), Inches(8), Inches(4))\n",
        "    tf = tx_box.text_frame\n",
        "\n",
        "    for key, value in results.items():\n",
        "        p = tf.add_paragraph()\n",
        "        # Check if the value is a number (int or float) and format accordingly\n",
        "        if isinstance(value, (int, float)):\n",
        "            formatted_value = f\"{value:.3g}\"  # Format numbers to 3 significant digits\n",
        "        else:\n",
        "            formatted_value = value  # Use the string as-is\n",
        "        p.text = f\"{key}: {formatted_value}\"\n",
        "        p.font.size = Pt(20)\n",
        "\n",
        "def add_text_slide(prs, title, text):\n",
        "    slide = prs.slides.add_slide(prs.slide_layouts[1])\n",
        "    title_slide = slide.shapes.title\n",
        "    title_slide.text = title\n",
        "    tx_box = slide.shapes.add_textbox(Inches(1), Inches(2), Inches(8), Inches(4))\n",
        "    tf = tx_box.text_frame\n",
        "    p = tf.add_paragraph()\n",
        "    p.text = text\n",
        "\n",
        "def prepare_presentation(df, cq_selections):\n",
        "    for cq in cq_selections:\n",
        "        prs = Presentation()\n",
        "\n",
        "        df_cq = df[df['CQ_selection'] == cq]\n",
        "\n",
        "        # タイトルスライドの追加\n",
        "        slide_layout = prs.slide_layouts[0]  # 0 はタイトルスライド\n",
        "        slide = prs.slides.add_slide(slide_layout)\n",
        "        title = slide.shapes.title\n",
        "        title.text = f\"{cq}の解析結果\"\n",
        "\n",
        "        # Task 1: ID Check\n",
        "        add_id_check_slide(prs, df_cq, cq)\n",
        "\n",
        "        # Generate histograms for Q1 and Q2\n",
        "        add_histogram_slide(prs, df_cq['Q1'], f\"{cq} Q1\")\n",
        "        add_histogram_slide(prs, df_cq['Q2'], f\"{cq} Q2\")\n",
        "\n",
        "        # Statistical summary for Q1 and Q2\n",
        "        results_q1 = analyze_questions(df_cq['Q1'])\n",
        "        results_q2 = analyze_questions(df_cq['Q2'])\n",
        "        add_statistical_summary_slide(prs, results_q1, f\"{cq} Q1 Statistical Summary\")\n",
        "        add_statistical_summary_slide(prs, results_q2, f\"{cq} Q2 Statistical Summary\")\n",
        "\n",
        "        # Summarize free text for Q1_free and Q2_free\n",
        "        q1_free_text = \"\\n\".join(df_cq['Q1_free'])\n",
        "        q2_free_text = \"\\n\".join(df_cq['Q2_free'])\n",
        "        add_text_slide(prs, f\"{cq} Q1 Free Text Responses\", q1_free_text)\n",
        "        add_text_slide(prs, f\"{cq} Q2 Free Text Responses\", q2_free_text)\n",
        "\n",
        "\n",
        "        # Save the completed presentation to a file\n",
        "        base_path = \"/content/drive/MyDrive/yourpass\"\n",
        "        filename = f\"{base_path}/{cq}_output.pptx\"\n",
        "        prs.save(filename)\n",
        "        print(f\"Saved presentation for {cq} as {filename}\")\n",
        "\n",
        "# Example usage\n",
        "# Assume 'df' is your DataFrame containing all the necessary data\n",
        "# cq_selections = ['CQ_A2', 'CQ_A3', ..., 'CQ_A10']\n",
        "# prepare_presentation(df, cq_selections)\n",
        "\n"
      ],
      "metadata": {
        "id": "2C-3bSrqVI2L"
      },
      "execution_count": 5,
      "outputs": []
    },
    {
      "cell_type": "markdown",
      "source": [
        "上までを走らせて関数を記憶させたら準備は完了です。\n",
        "\n",
        "あとは、CQ_A1からCQ_A10まで完了したところを実行していくと、フォルダ内にスライドが格納されます。\n"
      ],
      "metadata": {
        "id": "woLlO9xy5vAd"
      }
    },
    {
      "cell_type": "markdown",
      "source": [
        "# 投票後の実行\n",
        "以下のコードを投票後に実施していくと、フォルダ内に自動でスライドが追加されます。あとはフォルダからスライドをみればOKです。\n",
        "データは逐次更新を想定しているため、毎回読み込み直します"
      ],
      "metadata": {
        "id": "I-fNBx7K8txP"
      }
    },
    {
      "cell_type": "markdown",
      "source": [
        "## CQ_A1"
      ],
      "metadata": {
        "id": "KfMmnckS59DI"
      }
    },
    {
      "cell_type": "code",
      "source": [
        "# CQ categories you want to analyze\n",
        "cq_selections = ['CQ_A1']  # Extend this list as needed\n",
        "\n",
        "# Call the function\n",
        "prepare_presentation(df, cq_selections)\n"
      ],
      "metadata": {
        "id": "duehMAdcKo4h",
        "outputId": "798ea06d-24c9-4778-f1e7-c13c526e6cd0",
        "colab": {
          "base_uri": "https://localhost:8080/"
        }
      },
      "execution_count": null,
      "outputs": [
        {
          "output_type": "stream",
          "name": "stdout",
          "text": [
            "Saved presentation for CQ_A1 as /content/drive/MyDrive/yourpass/CQ_A1_output.pptx\n"
          ]
        }
      ]
    },
    {
      "cell_type": "markdown",
      "source": [
        "## CQ_A2"
      ],
      "metadata": {
        "id": "yATQ1Ahk6CPA"
      }
    },
    {
      "cell_type": "code",
      "source": [
        "url = 'https://docs.google.com/spreadsheets/d/1MXIEA-pUss9VBQ1nVzmk83AKdXQwwOw1YbWLz_4LTMg/export?format=xlsx'\n",
        "df = pd.read_excel(url)\n",
        "\n",
        "# CQ categories you want to analyze\n",
        "cq_selections = ['CQ_A2']  # Extend this list as needed\n",
        "\n",
        "# Call the function\n",
        "prepare_presentation(df, cq_selections)\n"
      ],
      "metadata": {
        "colab": {
          "base_uri": "https://localhost:8080/"
        },
        "id": "ChpxRg476S8l",
        "outputId": "11c2563e-fc13-4e9f-ea2c-82744585be4e"
      },
      "execution_count": 6,
      "outputs": [
        {
          "output_type": "stream",
          "name": "stdout",
          "text": [
            "Saved presentation for CQ_A2 as /content/drive/MyDrive/yourpass/CQ_A2_output.pptx\n"
          ]
        }
      ]
    },
    {
      "cell_type": "markdown",
      "source": [
        "## CQ_A3"
      ],
      "metadata": {
        "id": "1t3sP1_Y6FNE"
      }
    },
    {
      "cell_type": "code",
      "source": [
        "url = 'https://docs.google.com/spreadsheets/d/1MXIEA-pUss9VBQ1nVzmk83AKdXQwwOw1YbWLz_4LTMg/export?format=xlsx'\n",
        "df = pd.read_excel(url)\n",
        "\n",
        "# CQ categories you want to analyze\n",
        "cq_selections = ['CQ_A3']  # Extend this list as needed\n",
        "\n",
        "# Call the function\n",
        "prepare_presentation(df, cq_selections)\n"
      ],
      "metadata": {
        "id": "Dkbq8TKE6UHF",
        "colab": {
          "base_uri": "https://localhost:8080/"
        },
        "outputId": "afe1787c-a963-4631-df6e-51ce1b3113da"
      },
      "execution_count": 7,
      "outputs": [
        {
          "output_type": "stream",
          "name": "stdout",
          "text": [
            "Saved presentation for CQ_A3 as /content/drive/MyDrive/yourpass/CQ_A3_output.pptx\n"
          ]
        }
      ]
    },
    {
      "cell_type": "markdown",
      "source": [
        "## CQ_A4"
      ],
      "metadata": {
        "id": "2VMQ8rCl6GTN"
      }
    },
    {
      "cell_type": "code",
      "source": [
        "url = 'https://docs.google.com/spreadsheets/d/1MXIEA-pUss9VBQ1nVzmk83AKdXQwwOw1YbWLz_4LTMg/export?format=xlsx'\n",
        "df = pd.read_excel(url)\n",
        "\n",
        "# CQ categories you want to analyze\n",
        "cq_selections = ['CQ_A4']  # Extend this list as needed\n",
        "\n",
        "# Call the function\n",
        "prepare_presentation(df, cq_selections)\n"
      ],
      "metadata": {
        "id": "K1MkNgNK6U9j"
      },
      "execution_count": null,
      "outputs": []
    },
    {
      "cell_type": "code",
      "source": [],
      "metadata": {
        "id": "juG1k80g6VgQ"
      },
      "execution_count": null,
      "outputs": []
    },
    {
      "cell_type": "markdown",
      "source": [
        "## CQ_A5"
      ],
      "metadata": {
        "id": "AVQyQPe66H-c"
      }
    },
    {
      "cell_type": "code",
      "source": [
        "url = 'https://docs.google.com/spreadsheets/d/1MXIEA-pUss9VBQ1nVzmk83AKdXQwwOw1YbWLz_4LTMg/export?format=xlsx'\n",
        "df = pd.read_excel(url)\n",
        "\n",
        "# CQ categories you want to analyze\n",
        "cq_selections = ['CQ_A5']  # Extend this list as needed\n",
        "\n",
        "# Call the function\n",
        "prepare_presentation(df, cq_selections)\n"
      ],
      "metadata": {
        "id": "WC5EkJLH6WRh",
        "colab": {
          "base_uri": "https://localhost:8080/"
        },
        "outputId": "a211246f-c0d8-4ce3-8168-4ca1c1d4c992"
      },
      "execution_count": 8,
      "outputs": [
        {
          "output_type": "stream",
          "name": "stdout",
          "text": [
            "Saved presentation for CQ_A5 as /content/drive/MyDrive/yourpass/CQ_A5_output.pptx\n"
          ]
        }
      ]
    },
    {
      "cell_type": "markdown",
      "source": [
        "## CQ_A6"
      ],
      "metadata": {
        "id": "wPBMbiZu6I_S"
      }
    },
    {
      "cell_type": "code",
      "source": [
        "url = 'https://docs.google.com/spreadsheets/d/1MXIEA-pUss9VBQ1nVzmk83AKdXQwwOw1YbWLz_4LTMg/export?format=xlsx'\n",
        "df = pd.read_excel(url)\n",
        "\n",
        "# CQ categories you want to analyze\n",
        "cq_selections = ['CQ_A6']  # Extend this list as needed\n",
        "\n",
        "# Call the function\n",
        "prepare_presentation(df, cq_selections)\n"
      ],
      "metadata": {
        "id": "WyL17Smu6W0S"
      },
      "execution_count": null,
      "outputs": []
    },
    {
      "cell_type": "code",
      "source": [],
      "metadata": {
        "id": "y8UbTP2SxgsI"
      },
      "execution_count": null,
      "outputs": []
    },
    {
      "cell_type": "markdown",
      "source": [
        "## CQ_A7"
      ],
      "metadata": {
        "id": "-0IJFm--6LCK"
      }
    },
    {
      "cell_type": "code",
      "source": [
        "url = 'https://docs.google.com/spreadsheets/d/1MXIEA-pUss9VBQ1nVzmk83AKdXQwwOw1YbWLz_4LTMg/export?format=xlsx'\n",
        "df = pd.read_excel(url)\n",
        "\n",
        "# CQ categories you want to analyze\n",
        "cq_selections = ['CQ_A7']  # Extend this list as needed\n",
        "\n",
        "# Call the function\n",
        "prepare_presentation(df, cq_selections)\n"
      ],
      "metadata": {
        "id": "dvnTj39n6Xge"
      },
      "execution_count": null,
      "outputs": []
    },
    {
      "cell_type": "markdown",
      "source": [
        "## CQ_A8"
      ],
      "metadata": {
        "id": "z4mov1zY6MWk"
      }
    },
    {
      "cell_type": "code",
      "source": [
        "url = 'https://docs.google.com/spreadsheets/d/1MXIEA-pUss9VBQ1nVzmk83AKdXQwwOw1YbWLz_4LTMg/export?format=xlsx'\n",
        "df = pd.read_excel(url)\n",
        "\n",
        "# CQ categories you want to analyze\n",
        "cq_selections = ['CQ_A8']  # Extend this list as needed\n",
        "\n",
        "# Call the function\n",
        "prepare_presentation(df, cq_selections)\n"
      ],
      "metadata": {
        "id": "bw7ybZgL6YDr"
      },
      "execution_count": null,
      "outputs": []
    },
    {
      "cell_type": "markdown",
      "source": [
        "## CQ_A9"
      ],
      "metadata": {
        "id": "0UA4007p6Neo"
      }
    },
    {
      "cell_type": "code",
      "source": [
        "url = 'https://docs.google.com/spreadsheets/d/1MXIEA-pUss9VBQ1nVzmk83AKdXQwwOw1YbWLz_4LTMg/export?format=xlsx'\n",
        "df = pd.read_excel(url)\n",
        "\n",
        "# CQ categories you want to analyze\n",
        "cq_selections = ['CQ_A9']  # Extend this list as needed\n",
        "\n",
        "# Call the function\n",
        "prepare_presentation(df, cq_selections)\n"
      ],
      "metadata": {
        "id": "JNIYkL5D6YoD"
      },
      "execution_count": null,
      "outputs": []
    },
    {
      "cell_type": "markdown",
      "source": [
        "## CQ_A10"
      ],
      "metadata": {
        "id": "sfmZcGpV6Orr"
      }
    },
    {
      "cell_type": "code",
      "source": [
        "url = 'https://docs.google.com/spreadsheets/d/1MXIEA-pUss9VBQ1nVzmk83AKdXQwwOw1YbWLz_4LTMg/export?format=xlsx'\n",
        "df = pd.read_excel(url)\n",
        "\n",
        "# CQ categories you want to analyze\n",
        "cq_selections = ['CQ_A10']  # Extend this list as needed\n",
        "\n",
        "# Call the function\n",
        "prepare_presentation(df, cq_selections)\n"
      ],
      "metadata": {
        "id": "PnDcP6sj6ZVN"
      },
      "execution_count": null,
      "outputs": []
    }
  ]
}
